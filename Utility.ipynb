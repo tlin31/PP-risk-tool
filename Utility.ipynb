{
 "cells": [
  {
   "cell_type": "code",
   "execution_count": null,
   "metadata": {},
   "outputs": [],
   "source": [
    "import pandas as pd\n",
    "import requests\n",
    "import time\n",
    "import numpy as np\n",
    "import datetime\n",
    "import Fetch_compare\n",
    "import matplotlib.pyplot as plt\n",
    "from itertools import repeat\n",
    "from multiprocessing import Pool, cpu_count\n",
    "from itertools import repeat\n",
    "from multiprocessing.pool import ThreadPool"
   ]
  },
  {
   "cell_type": "code",
   "execution_count": null,
   "metadata": {},
   "outputs": [],
   "source": [
    "def send_email(diff_table,emailid):\n",
    "    print(emailid);\n",
    "\n",
    "    file_name = 'diff_tables.csv'\n",
    "    subject=\"Behavior Monitoring Tool{date:%Y-%m-%d_%H:%M:%S}\".format( date=datetime.datetime.now());\n",
    "    %sendmail -to \"$emailid\"  --subject \"$subject\" --body \"Monitoring results\" --attachments \"$file_name\"\n",
    "    print(emailid);\n",
    "    print('Result has sent to your email.');\n",
    "\n",
    "if __name__ == \"__main__\":\n",
    "    startDate = '2020/08/18-15:00:00'\n",
    "    endDate = '2020/08/18-15:15:00'\n",
    "    corrID = 'ac65f81dd963e'\n",
    "#     machine_name = 'slcfeel3542b'\n",
    "    machine_name = 'all'\n",
    "    server1 = 'acserv_acriskserv'\n",
    "    \n",
    "    valid_second_rows = pd.read_csv(\"diff_tables.csv\") \n",
    "\n",
    "\n",
    "    send_email(valid_second_rows,'tialin@paypal.com')"
   ]
  },
  {
   "cell_type": "code",
   "execution_count": null,
   "metadata": {},
   "outputs": [],
   "source": [
    "def get_records(typeA_machine_name,typeB_machine_name,typeA_start_date,typeA_end_date,typeA_pool_name,typeB_pool_name,typeA_data_center,typeB_data_center):    \n",
    "    diff_tables = Fetch_compare.combine_and_compare(typeA_machine_name,typeB_machine_name,typeA_start_date,typeA_end_date,typeA_pool_name,typeB_pool_name,typeA_data_center,typeB_data_center)\n",
    "    return diff_tables;\n"
   ]
  },
  {
   "cell_type": "code",
   "execution_count": null,
   "metadata": {},
   "outputs": [],
   "source": []
  }
 ],
 "metadata": {
  "kernelspec": {
   "display_name": "Python368",
   "language": "python",
   "name": "python36"
  },
  "language_info": {
   "codemirror_mode": {
    "name": "ipython",
    "version": 3
   },
   "file_extension": ".py",
   "mimetype": "text/x-python",
   "name": "python",
   "nbconvert_exporter": "python",
   "pygments_lexer": "ipython3",
   "version": "3.6.8"
  }
 },
 "nbformat": 4,
 "nbformat_minor": 4
}