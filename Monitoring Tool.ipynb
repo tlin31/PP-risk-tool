{
 "cells": [
  {
   "cell_type": "markdown",
   "metadata": {},
   "source": [
    "<h1> Risk Service Behavior Monitoring Tool <\\h1>\n"
   ]
  },
  {
   "cell_type": "markdown",
   "metadata": {},
   "source": [
    "The aim of this Tool is to generate a report to compare database action for 2 different services using logs from CAL.\n",
    "\n",
    "The difference will be populated in a table and you will get an email once the execution is done.\n",
    "\n",
    "Please follow the steps 1-5 to use the tool.\n",
    "\n",
    "More details: https://engineering.paypalcorp.com/confluence/pages/viewpage.action?spaceKey=RIAC&title=acrisk+-+CAL+Tool+-+Project+for+the++intern"
   ]
  },
  {
   "cell_type": "markdown",
   "metadata": {},
   "source": [
    "### Step 1: Enter your Email"
   ]
  },
  {
   "cell_type": "code",
   "execution_count": null,
   "metadata": {},
   "outputs": [],
   "source": [
    "email='tialin@paypal.com';"
   ]
  },
  {
   "cell_type": "markdown",
   "metadata": {},
   "source": [
    "### Step 2: Get authanticate token"
   ]
  },
  {
   "cell_type": "markdown",
   "metadata": {},
   "source": [
    "Please go to Key-maker.ipynb and follow the instructions."
   ]
  },
  {
   "cell_type": "markdown",
   "metadata": {},
   "source": [
    "### Step 3: Set the variables for Primary Service\n",
    "Enter the machinename ,StartDate ,EndDate ,Poolname ,DatacenterName ,Regex for the primary service in the same format ( fields are case-sensitive)\n",
    "\n",
    "If you want **all** machines and **all** data centers, please leave those fields empty within the '  '"
   ]
  },
  {
   "cell_type": "code",
   "execution_count": null,
   "metadata": {},
   "outputs": [],
   "source": [
    "typeA_machine_name=''\n",
    "typeA_start_date='2020/08/20-00:00:00'\n",
    "typeA_end_date='2020/08/20-01:00:00'\n",
    "typeA_pool_name='acserv_acriskserv'\n",
    "typeA_data_center=''"
   ]
  },
  {
   "cell_type": "markdown",
   "metadata": {},
   "source": [
    "### Step 4: Set the variables for Secondary Service\n",
    "Enter the machinename ,StartDate ,EndDate ,Poolname ,DatacenterName ,Regex for secondary service similarly ( fields are case-sensitive)\n",
    "\n",
    "Note: the time range of secondary service should be the same as that of primary service"
   ]
  },
  {
   "cell_type": "code",
   "execution_count": null,
   "metadata": {},
   "outputs": [],
   "source": [
    "typeB_machine_name=''\n",
    "typeB_pool_name='riskplanningraptserv'\n",
    "typeB_data_center=''"
   ]
  },
  {
   "cell_type": "markdown",
   "metadata": {},
   "source": [
    "### Step 5: Please click on 'RUN' -> 'Run All Cells' \n",
    "\n",
    "### Step 6: Once complete, you will see below 'the email has sent to your email'\n"
   ]
  },
  {
   "cell_type": "code",
   "execution_count": null,
   "metadata": {},
   "outputs": [],
   "source": [
    "import pandas as pd\n",
    "import requests\n",
    "import time\n",
    "import numpy as np\n",
    "import Utility\n",
    "import Fetch_compare\n",
    "import matplotlib.pyplot as plt\n",
    "%config PPMagics.autolimit=0\n",
    "pd.set_option('display.max_colwidth', -1)\n",
    "from concurrent.futures import ProcessPoolExecutor\n",
    "from time import sleep\n",
    "from multiprocessing import Pool, cpu_count\n",
    "from itertools import repeat\n",
    "from multiprocessing.pool import ThreadPool\n",
    "import warnings"
   ]
  },
  {
   "cell_type": "code",
   "execution_count": null,
   "metadata": {},
   "outputs": [],
   "source": [
    "typeA_corrid=''\n",
    "typeB_corrid=''\n",
    "\n",
    "results=Utility.get_records(typeA_machine_name,typeB_machine_name,typeA_start_date,typeA_end_date,typeA_pool_name,typeB_pool_name,typeA_data_center,typeB_data_center);\n",
    "\n",
    "Utility.send_email(results,email,typeA_pool_name,typeB_pool_name);"
   ]
  },
  {
   "cell_type": "markdown",
   "metadata": {},
   "source": [
    "**Note: for one hour of data, it takes around 50 minutes to have the report sent to your email**"
   ]
  }
 ],
 "metadata": {
  "kernelspec": {
   "display_name": "Python3",
   "language": "python",
   "name": "Python3"
  },
  "language_info": {
   "codemirror_mode": {
    "name": "ipython",
    "version": 3
   },
   "file_extension": ".py",
   "mimetype": "text/x-python",
   "name": "python",
   "nbconvert_exporter": "python",
   "pygments_lexer": "ipython3",
   "version": "3.5.2"
  }
 },
 "nbformat": 4,
 "nbformat_minor": 4
}
