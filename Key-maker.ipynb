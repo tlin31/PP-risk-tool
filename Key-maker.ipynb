{
 "cells": [
  {
   "cell_type": "markdown",
   "metadata": {},
   "source": [
    "<h1> Key-maker process <\\h1>"
   ]
  },
  {
   "cell_type": "markdown",
   "metadata": {},
   "source": [
    "Step 1: \n",
    "Please visit this link and follow the steps to create the token for your local project:\n",
    "https://engineering.paypalcorp.com/confluence/display/RIAC/Risk+Service+Behavior+Monitoring+Tool#RiskServiceBehaviorMonitoringTool-6.1.KeyMakerIntegration\n",
    "Once done, please paste the token in the last cell."
   ]
  },
  {
   "cell_type": "markdown",
   "metadata": {},
   "source": [
    "Step 2:  \n",
    "If you can't use the above steps to obtain a bootstrap token:\n",
    "\n",
    "    1. Please submit a ticket to the keymaker team.\n",
    "\n",
    "    2. Get a 2-hour temporary CAL Pig token by going https://engineering.paypalcorp.com/cal/authenticator/ \n",
    "       and click 'generate' button, then copy the generated token and paste it in the last cell."
   ]
  },
  {
   "cell_type": "markdown",
   "metadata": {},
   "source": [
    "Step 3: \n",
    "Now click on 'Run' and 'Run All Cells' in the menu bar on the upper left of this page."
   ]
  },
  {
   "cell_type": "code",
   "execution_count": null,
   "metadata": {},
   "outputs": [],
   "source": [
    "!export CAL_AUTH_TOKEN="
   ]
  }
 ],
 "metadata": {
  "kernelspec": {
   "display_name": "Python3",
   "language": "python",
   "name": "Python3"
  },
  "language_info": {
   "codemirror_mode": {
    "name": "ipython",
    "version": 3
   },
   "file_extension": ".py",
   "mimetype": "text/x-python",
   "name": "python",
   "nbconvert_exporter": "python",
   "pygments_lexer": "ipython3",
   "version": "3.5.2"
  }
 },
 "nbformat": 4,
 "nbformat_minor": 2
}